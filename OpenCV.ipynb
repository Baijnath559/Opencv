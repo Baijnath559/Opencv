{
 "cells": [
  {
   "cell_type": "code",
   "execution_count": null,
   "metadata": {},
   "outputs": [],
   "source": [
    "# B/W image ----0/1 \n",
    "# Normal format is RGB\n",
    "# They use BGR\n",
    "# Internal web cam =0 and other 1,2,3...\n",
    "#cap.read()  #it gives two o/p ..hence store them in 2 var"
   ]
  },
  {
   "cell_type": "markdown",
   "metadata": {},
   "source": [
    "# Clicking the pic and showing"
   ]
  },
  {
   "cell_type": "code",
   "execution_count": 7,
   "metadata": {},
   "outputs": [],
   "source": [
    "import cv2\n",
    "cap = cv2.VideoCapture(0)    #choosing web cam\n",
    "\n",
    "ret,photo = cap.read()    # capturing and saving \n",
    " \n",
    "cv2.imshow(\"PHOTO\",photo)     #displaying\n",
    "cv2.waitKey()                #as there is no value passed in waitKey ...it will hold the image for infinite time\n",
    "#cv2.waitKey(10)     #will hold image for 10 milli second\n",
    "cv2.destroyAllWindows()\n",
    "#cap.release()\n",
    "\n",
    "\n",
    "#without waitKey() line gui window will crash\n",
    "#cv2.waitKey(10000)  #it will hold the image tab for 10 seconds"
   ]
  },
  {
   "cell_type": "code",
   "execution_count": 31,
   "metadata": {},
   "outputs": [],
   "source": [
    "print(photo.shape)\n",
    "cap.read()"
   ]
  },
  {
   "cell_type": "code",
   "execution_count": 37,
   "metadata": {},
   "outputs": [],
   "source": [
    "cap.release()"
   ]
  },
  {
   "cell_type": "markdown",
   "metadata": {},
   "source": [
    "# Saving the image captured"
   ]
  },
  {
   "cell_type": "code",
   "execution_count": 3,
   "metadata": {},
   "outputs": [],
   "source": [
    "import cv2\n",
    "cap = cv2.VideoCapture(0)   \n",
    "ret,photo = cap.read()    \n",
    " \n",
    "cv2.imshow(\"PHOTO\",photo)  \n",
    "cv2.imwrite(\"foto.jpg\",photo)\n",
    "cv2.waitKey()                \n",
    "     \n",
    "cv2.destroyAllWindows()\n",
    "cap.release()"
   ]
  },
  {
   "cell_type": "markdown",
   "metadata": {},
   "source": [
    "# Cropping an image"
   ]
  },
  {
   "cell_type": "code",
   "execution_count": 9,
   "metadata": {},
   "outputs": [],
   "source": [
    "import cv2\n",
    "\n",
    "cap = cv2.VideoCapture(0)\n",
    "\n",
    "ret, photo = cap.read()\n",
    "cropPhoto = photo[130:430,250:500]\n",
    "\n",
    "\n",
    "cv2.imshow(\"Cropped\",cropPhoto)\n",
    "cv2.imwrite(\"cropped.jpg\",cropPhoto)    #saving the image\n",
    "cv2.waitKey()\n",
    "\n",
    "cv2.destroyAllWindows()\n",
    "cap.release()"
   ]
  },
  {
   "cell_type": "markdown",
   "metadata": {},
   "source": [
    "# Capturing a video"
   ]
  },
  {
   "cell_type": "code",
   "execution_count": 3,
   "metadata": {},
   "outputs": [],
   "source": [
    "import cv2\n",
    "cap = cv2.VideoCapture(0)\n",
    "\n",
    "while True:\n",
    "    ret,photo = cap.read()\n",
    "    cv2.imshow(\"PHOTO\",photo)\n",
    "    if cv2.waitKey(100)==13:      #13 is the code for enter\n",
    "        break\n",
    "        \n",
    "cv2.destroyAllWindows()\n",
    "cap.release()\n"
   ]
  },
  {
   "cell_type": "markdown",
   "metadata": {},
   "source": [
    "# Gray video"
   ]
  },
  {
   "cell_type": "code",
   "execution_count": 9,
   "metadata": {},
   "outputs": [],
   "source": [
    "import cv2\n",
    "cap = cv2.VideoCapture(0)\n",
    "\n",
    "while True:\n",
    "    ret,foto = cap.read()\n",
    "    gfoto = cv2.cvtColor(foto,cv2.COLOR_BGR2GRAY)\n",
    "    cv2.imshow(\"Gray_video\",gfoto)\n",
    "    if cv2.waitKey(1) == 27:   #27 is code for escape key\n",
    "        break\n",
    "        \n",
    "cv2.destroyAllWindows()\n",
    "cap.release()"
   ]
  },
  {
   "cell_type": "markdown",
   "metadata": {},
   "source": [
    "# Cropped video"
   ]
  },
  {
   "cell_type": "code",
   "execution_count": 15,
   "metadata": {},
   "outputs": [],
   "source": [
    "import cv2\n",
    "cap = cv2.VideoCapture(0)\n",
    "\n",
    "while True:\n",
    "    ret,photo = cap.read()\n",
    "    cropVid = photo[130:450,200:550]\n",
    "    cv2.imshow(\"Cropped Video\",cropVid)\n",
    "    if cv2.waitKey(1) == 27:\n",
    "        break\n",
    "        \n",
    "cv2.destroyAllWindows()\n",
    "cap.release()"
   ]
  },
  {
   "cell_type": "markdown",
   "metadata": {},
   "source": [
    "# Cropped Gray video"
   ]
  },
  {
   "cell_type": "code",
   "execution_count": 19,
   "metadata": {},
   "outputs": [],
   "source": [
    "import cv2\n",
    "cap = cv2.VideoCapture(0)\n",
    "\n",
    "while True:\n",
    "    ret,photo = cap.read()\n",
    "    gvideo = cv2.cvtColor(photo , cv2.COLOR_BGR2GRAY)\n",
    "    crop_gvid = gvideo[130:450,200:550]\n",
    "    cv2.imshow(\"GrayCroppedVid\",crop_gvid)\n",
    "    if cv2.waitKey(1) == 13:\n",
    "        break\n",
    "        \n",
    "        \n",
    "cap.release()\n",
    "cv2.destroyAllWindows()"
   ]
  },
  {
   "cell_type": "markdown",
   "metadata": {},
   "source": [
    "# Coloring the image (or Framing the img)"
   ]
  },
  {
   "cell_type": "code",
   "execution_count": 54,
   "metadata": {},
   "outputs": [],
   "source": [
    "import cv2\n",
    "cap = cv2.VideoCapture(0)\n",
    "ret,photo = cap.read()\n",
    "\n",
    "for i in range(90):\n",
    "    for j in range(640):\n",
    "        photo[i][j] = [220,130,80]\n",
    "        \n",
    "        \n",
    "cv2.imshow(\"Coloring\",photo)\n",
    "cv2.waitKey()\n",
    "\n",
    "cv2.destroyAllWindows()\n",
    "cap.release()"
   ]
  },
  {
   "cell_type": "code",
   "execution_count": 55,
   "metadata": {},
   "outputs": [],
   "source": [
    "import cv2\n",
    "cap = cv2.VideoCapture(0)\n",
    "ret,photo = cap.read()\n",
    "\n",
    "for i in range(60):\n",
    "    for j in range(640):\n",
    "        photo[i][j] = [220,130,80]\n",
    "        \n",
    "for i in range(420,480):\n",
    "    for j in range(640): \n",
    "        photo[i][j] = [120,230,180]\n",
    "        \n",
    "\n",
    "        \n",
    "cv2.imshow(\"Coloring\",photo)\n",
    "cv2.waitKey()\n",
    "\n",
    "cv2.destroyAllWindows()\n",
    "cap.release()"
   ]
  },
  {
   "cell_type": "code",
   "execution_count": 56,
   "metadata": {},
   "outputs": [],
   "source": [
    "import cv2\n",
    "cap = cv2.VideoCapture(0)\n",
    "ret,photo = cap.read()\n",
    "\n",
    "for i in range(60):\n",
    "    for j in range(640):\n",
    "        photo[i][j] = [220,130,80]\n",
    "        \n",
    "for i in range(420,480):\n",
    "    for j in range(640): \n",
    "        photo[i][j] = [120,230,180]\n",
    "        \n",
    "for i in range(60,420):          #avoid overlapping\n",
    "    for j in range(60):\n",
    "         photo[i][j] = photo[260,220,0]\n",
    "\n",
    "        \n",
    "for i in range(60,420):          #avoid overlapping\n",
    "    for j in range(580,640):\n",
    "         photo[i][j] = photo[60,102,0]            \n",
    "\n",
    "        \n",
    "cv2.imshow(\"Coloring\",photo)\n",
    "cv2.waitKey()\n",
    "\n",
    "cv2.destroyAllWindows()\n",
    "cap.release()"
   ]
  },
  {
   "cell_type": "markdown",
   "metadata": {},
   "source": [
    "# Drawing a diagonal line"
   ]
  },
  {
   "cell_type": "code",
   "execution_count": 82,
   "metadata": {},
   "outputs": [],
   "source": [
    "import cv2\n",
    "cap = cv2.VideoCapture(0)\n",
    "ret,photo = cap.read()\n",
    "\n",
    "for i in range(480):\n",
    "    for j in range(640):\n",
    "        if i==j:\n",
    "            photo[i][j] = [220,130,80]\n",
    "        \n",
    "        \n",
    "cv2.imshow(\"Coloring\",photo)\n",
    "cv2.waitKey()\n",
    "\n",
    "cv2.destroyAllWindows()\n",
    "cap.release()"
   ]
  },
  {
   "cell_type": "code",
   "execution_count": 81,
   "metadata": {},
   "outputs": [],
   "source": [
    "import cv2\n",
    "cap = cv2.VideoCapture(0)\n",
    "ret,photo = cap.read()\n",
    "\n",
    "photo = cv2.resize(photo ,(640,640))\n",
    "\n",
    "for i in range(640):\n",
    "    for j in range(640):\n",
    "        if i==j:\n",
    "            photo[i][j] = [220,130,80]\n",
    "            \n",
    "\n",
    "cv2.imshow(\"Coloring\",photo)\n",
    "cv2.waitKey()\n",
    "\n",
    "cv2.destroyAllWindows()\n",
    "cap.release()"
   ]
  },
  {
   "cell_type": "code",
   "execution_count": null,
   "metadata": {},
   "outputs": [],
   "source": []
  },
  {
   "cell_type": "code",
   "execution_count": null,
   "metadata": {},
   "outputs": [],
   "source": [
    "live streamin"
   ]
  },
  {
   "cell_type": "code",
   "execution_count": null,
   "metadata": {},
   "outputs": [],
   "source": [
    "create 1 in cv\n",
    "swap the faces\n",
    "make collage (merge 2 pic side by side)\n",
    "1 to 1 live video"
   ]
  },
  {
   "cell_type": "code",
   "execution_count": null,
   "metadata": {},
   "outputs": [],
   "source": [
    "email "
   ]
  }
 ],
 "metadata": {
  "kernelspec": {
   "display_name": "Python 3",
   "language": "python",
   "name": "python3"
  },
  "language_info": {
   "codemirror_mode": {
    "name": "ipython",
    "version": 3
   },
   "file_extension": ".py",
   "mimetype": "text/x-python",
   "name": "python",
   "nbconvert_exporter": "python",
   "pygments_lexer": "ipython3",
   "version": "3.8.3"
  }
 },
 "nbformat": 4,
 "nbformat_minor": 4
}
