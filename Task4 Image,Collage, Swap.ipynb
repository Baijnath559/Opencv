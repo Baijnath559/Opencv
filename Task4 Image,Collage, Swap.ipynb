{
 "cells": [
  {
   "cell_type": "markdown",
   "metadata": {},
   "source": [
    " # TASK_4"
   ]
  },
  {
   "cell_type": "markdown",
   "metadata": {},
   "source": [
    "# 1.) Creating an Image"
   ]
  },
  {
   "cell_type": "code",
   "execution_count": 1,
   "metadata": {},
   "outputs": [],
   "source": [
    "import cv2 \n",
    "import numpy as np\n",
    "\n",
    "black = np.zeros([480,480,3], np.uint8)                      #this will create a black image 480x480 \n",
    "cv2.imshow(\"Black image\", black)\n",
    "cv2.waitKey()\n",
    "cv2.destroyAllWindows()\n"
   ]
  },
  {
   "cell_type": "code",
   "execution_count": 2,
   "metadata": {},
   "outputs": [],
   "source": [
    "cirImg = cv2.circle(black, (230,150),50,[240,255,100],2)     #this will create a circle (head)\n",
    "\n",
    "cv2.imshow(\"Black image\", cirImg)\n",
    "cv2.waitKey()\n",
    "cv2.destroyAllWindows()\n"
   ]
  },
  {
   "cell_type": "code",
   "execution_count": 3,
   "metadata": {},
   "outputs": [],
   "source": [
    "cirImg = cv2.circle(black, (230,150),50,[240,255,100],2)     #this will create a circle (head)\n",
    "cirImg = cv2.circle(cirImg,(200,140),10,[240,255,0],1)       #left eye \n",
    "\n",
    "cv2.imshow(\"Black image\", cirImg)\n",
    "cv2.waitKey()\n",
    "cv2.destroyAllWindows()\n"
   ]
  },
  {
   "cell_type": "code",
   "execution_count": 4,
   "metadata": {},
   "outputs": [],
   "source": [
    "cirImg = cv2.circle(black, (230,150),50,[240,255,100],2)       #this will create a circle (head)\n",
    "cirImg = cv2.circle(cirImg,(200,140),10,[240,255,0],1)         #left eye\n",
    "cirImg = cv2.circle(cirImg,(260,140),10,[240,255,0],1)         # right eye\n",
    "\n",
    "cv2.imshow(\"Black image\", cirImg)\n",
    "cv2.waitKey()\n",
    "cv2.destroyAllWindows()"
   ]
  },
  {
   "cell_type": "code",
   "execution_count": 5,
   "metadata": {},
   "outputs": [],
   "source": [
    "cirImg = cv2.circle(black, (230,150),50,[240,255,100],2)       #this will create a circle (head)\n",
    "cirImg = cv2.circle(cirImg,(200,140),10,[240,255,0],1)         #left eye\n",
    "cirImg = cv2.circle(cirImg,(260,140),10,[240,255,0],1)         #right eye\n",
    "\n",
    "cirImg = cv2.circle(cirImg,(260,140),5,[255,255,255],-1)       # -1 is used to fill the eye ball\n",
    "cirImg = cv2.circle(cirImg,(200,140),5,[255,255,255],-1)     \n",
    "\n",
    "\n",
    "cv2.imshow(\"Black image\", cirImg)\n",
    "cv2.waitKey()\n",
    "cv2.destroyAllWindows()\n"
   ]
  },
  {
   "cell_type": "code",
   "execution_count": 6,
   "metadata": {},
   "outputs": [],
   "source": [
    "cirImg = cv2.circle(black, (230,150),50,[240,255,100],2)       #this will create a circle (head)\n",
    "cirImg = cv2.circle(cirImg,(200,140),10,[240,255,0],1)         #left eye\n",
    "cirImg = cv2.circle(cirImg,(260,140),10,[240,255,0],1)         #right eye\n",
    "\n",
    "cirImg = cv2.circle(cirImg,(260,140),5,[255,255,255],-1)       #filling up the eye balls\n",
    "cirImg = cv2.circle(cirImg,(200,140),5,[255,255,255],-1)    \n",
    "\n",
    "cirImg = cv2.circle(cirImg,(228,165),5,[240,255,0],1)          #nose\n",
    "\n",
    "\n",
    "cv2.imshow(\"Black image\", cirImg)\n",
    "cv2.waitKey()\n",
    "cv2.destroyAllWindows()\n"
   ]
  },
  {
   "cell_type": "code",
   "execution_count": 7,
   "metadata": {},
   "outputs": [],
   "source": [
    "cirImg = cv2.circle(black, (230,150),50,[240,255,100],2)           #this will create a circle (head)\n",
    "cirImg = cv2.circle(cirImg,(200,140),10,[240,255,0],1)             #left eye\n",
    "cirImg = cv2.circle(cirImg,(260,140),10,[240,255,0],1)             #right eye\n",
    "\n",
    "cirImg = cv2.circle(cirImg,(260,140),5,[255,255,255],-1)           #filling up the eye balls\n",
    "cirImg = cv2.circle(cirImg,(200,140),5,[255,255,255],-1)    \n",
    "\n",
    "cirImg = cv2.circle(cirImg,(228,165),5,[240,255,0],1)              #nose\n",
    "\n",
    "cv2.rectangle(cirImg,(214,185),(245,190),(255,255,255),2)          #mouth using rectangle\n",
    "\n",
    "\n",
    "cv2.imshow(\"Black image\", cirImg)\n",
    "cv2.waitKey()\n",
    "cv2.destroyAllWindows()\n"
   ]
  },
  {
   "cell_type": "code",
   "execution_count": 8,
   "metadata": {},
   "outputs": [],
   "source": [
    "cirImg = cv2.circle(black, (230,150),50,[240,255,100],2)             #this will create a circle (head)\n",
    "cirImg = cv2.circle(cirImg,(200,140),10,[240,255,0],1)               #left eye\n",
    "cirImg = cv2.circle(cirImg,(260,140),10,[240,255,0],1)               #right eye\n",
    "\n",
    "cirImg = cv2.circle(cirImg,(260,140),5,[255,255,255],-1)             #filling up the eye balls\n",
    "cirImg = cv2.circle(cirImg,(200,140),5,[255,255,255],-1)     \n",
    "\n",
    "cirImg = cv2.circle(cirImg,(228,165),5,[240,255,0],1)                #nose\n",
    "\n",
    "cirImg = cv2.rectangle(cirImg,(214,185),(245,190),(255,255,255),2)   #mouth using rectangle\n",
    "\n",
    "cirImg = cv2.circle(cirImg,(228,302),100,[240,255,100],2)            #lower part\n",
    "\n",
    "\n",
    "cv2.imshow(\"Black image\", cirImg)\n",
    "cv2.waitKey()\n",
    "cv2.destroyAllWindows()\n"
   ]
  },
  {
   "cell_type": "code",
   "execution_count": 9,
   "metadata": {},
   "outputs": [],
   "source": [
    "cirImg = cv2.circle(black, (230,150),50,[240,255,100],2)            #this will create a circle (head)\n",
    "cirImg = cv2.circle(cirImg,(200,140),10,[240,255,0],1)              #left eye\n",
    "cirImg = cv2.circle(cirImg,(260,140),10,[240,255,0],1)              #right eye\n",
    "\n",
    "cirImg = cv2.circle(cirImg,(260,140),5,[255,255,255],-1)            #filling up the eye balls\n",
    "cirImg = cv2.circle(cirImg,(200,140),5,[255,255,255],-1)    \n",
    "\n",
    "cirImg = cv2.circle(cirImg,(228,165),5,[240,255,0],1)               #nose\n",
    "\n",
    "cirImg = cv2.rectangle(cirImg,(214,185),(245,190),(255,255,255),2)  #mouth using rectangle\n",
    "\n",
    "cirImg = cv2.circle(cirImg,(228,302),100,[240,255,100],2)           #lower part\n",
    "\n",
    "cirImg = cv2.line(cirImg,(170,255),(190,325),[240,255,100],2)       #left hand\n",
    "cirImg = cv2.line(cirImg,(290,255),(270,325),[240,255,100],2)       #right hand\n",
    "\n",
    "\n",
    "\n",
    "cv2.imshow(\"Black image\", cirImg)\n",
    "cv2.waitKey()\n",
    "cv2.destroyAllWindows()\n"
   ]
  },
  {
   "cell_type": "code",
   "execution_count": 10,
   "metadata": {},
   "outputs": [],
   "source": [
    "cirImg = cv2.circle(black, (230,150),50,[240,255,100],2)           #this will create a circle (head)\n",
    "cirImg = cv2.circle(cirImg,(200,140),10,[240,255,0],1)             #left eye\n",
    "cirImg = cv2.circle(cirImg,(260,140),10,[240,255,0],1)             #right eye\n",
    "\n",
    "cirImg = cv2.circle(cirImg,(260,140),5,[255,255,255],-1)           #filling up the eye balls\n",
    "cirImg = cv2.circle(cirImg,(200,140),5,[255,255,255],-1)    \n",
    "\n",
    "cirImg = cv2.circle(cirImg,(228,165),5,[240,255,0],1)              #nose\n",
    "\n",
    "\n",
    "cirImg = cv2.rectangle(cirImg,(214,185),(245,190),(255,255,255),2) #mouth using rectangle\n",
    "\n",
    "cirImg = cv2.circle(cirImg,(228,302),100,[240,255,100],2)          #lower part\n",
    "\n",
    "cirImg = cv2.line(cirImg,(170,255),(190,325),[240,255,100],2)      #left hand\n",
    "cirImg = cv2.line(cirImg,(290,255),(270,325),[240,255,100],2)      #right hand\n",
    "\n",
    "cirImg = cv2.line(cirImg,(200,400),(170,435),[240,255,100],2)      #left leg\n",
    "\n",
    "cv2.imshow(\"Black image\", cirImg)\n",
    "cv2.waitKey()\n",
    "cv2.destroyAllWindows()\n"
   ]
  },
  {
   "cell_type": "code",
   "execution_count": 11,
   "metadata": {},
   "outputs": [],
   "source": [
    "cirImg = cv2.circle(black, (230,150),50,[240,255,100],2)            #this will create a circle (head)\n",
    "cirImg = cv2.circle(cirImg,(200,140),10,[240,255,0],1)              #left eye\n",
    "cirImg = cv2.circle(cirImg,(260,140),10,[240,255,0],1)              #right eye\n",
    "\n",
    "cirImg = cv2.circle(cirImg,(260,140),5,[255,255,255],-1)            #filling up the eye balls\n",
    "cirImg = cv2.circle(cirImg,(200,140),5,[255,255,255],-1)    \n",
    "\n",
    "cirImg = cv2.circle(cirImg,(228,165),5,[240,255,0],1)               #nose\n",
    "\n",
    "\n",
    "cirImg = cv2.rectangle(cirImg,(214,185),(245,190),(255,255,255),2)  #mouth using rectangle\n",
    "\n",
    "cirImg = cv2.circle(cirImg,(228,302),100,[240,255,100],2)           #lower part\n",
    "\n",
    "cirImg = cv2.line(cirImg,(170,255),(190,325),[240,255,100],2)       #left hand\n",
    "cirImg = cv2.line(cirImg,(290,255),(270,325),[240,255,100],2)       #right hand\n",
    "\n",
    "cirImg = cv2.line(cirImg,(200,400),(170,435),[240,255,100],2)       #left leg\n",
    "cirImg = cv2.line(cirImg,(260,400),(290,435),[240,255,100],2)       #right leg\n",
    "\n",
    "cv2.imshow(\"Black image\", cirImg)\n",
    "cv2.waitKey()\n",
    "cv2.destroyAllWindows()\n"
   ]
  },
  {
   "cell_type": "code",
   "execution_count": 12,
   "metadata": {},
   "outputs": [],
   "source": [
    "cirImg = cv2.circle(black, (230,150),50,[240,255,100],2)             #this will create a circle (head)\n",
    "cirImg = cv2.circle(cirImg,(200,140),10,[240,255,0],1)               #left eye\n",
    "cirImg = cv2.circle(cirImg,(260,140),10,[240,255,0],1)               #right eye\n",
    "\n",
    "cirImg = cv2.circle(cirImg,(260,140),5,[255,255,255],-1)             #filling up the eye balls\n",
    "cirImg = cv2.circle(cirImg,(200,140),5,[255,255,255],-1)    \n",
    "\n",
    "cirImg = cv2.circle(cirImg,(228,165),5,[240,255,0],1)                #nose\n",
    "\n",
    "cirImg = cv2.rectangle(cirImg,(214,185),(245,190),(255,255,255),2)   #mouth using rectangle\n",
    "\n",
    "cirImg = cv2.circle(cirImg,(228,302),100,[240,255,100],2)            #lower part\n",
    "\n",
    "cirImg = cv2.line(cirImg,(170,255),(190,325),[240,255,100],2)        #left hand\n",
    "cirImg = cv2.line(cirImg,(290,255),(270,325),[240,255,100],2)        #right hand\n",
    "\n",
    "cirImg = cv2.line(cirImg,(200,400),(170,435),[240,255,100],2)        #left leg\n",
    "cirImg = cv2.line(cirImg,(260,400),(290,435),[240,255,100],2)        #right leg\n",
    "\n",
    "cirImg = cv2.rectangle(cirImg,(0,430),(480,480),[0,255,0],-1)        #green floor\n",
    "\n",
    "cv2.imshow(\"Black image\", cirImg)\n",
    "cv2.waitKey()\n",
    "cv2.destroyAllWindows()\n"
   ]
  },
  {
   "cell_type": "markdown",
   "metadata": {},
   "source": [
    "# 2.) Collage "
   ]
  },
  {
   "cell_type": "code",
   "execution_count": 13,
   "metadata": {},
   "outputs": [],
   "source": [
    "import cv2\n",
    "import numpy as np"
   ]
  },
  {
   "cell_type": "code",
   "execution_count": 14,
   "metadata": {},
   "outputs": [],
   "source": [
    "#reading images\n",
    "\n",
    "picG = cv2.resize(cv2.imread(\"me1.jpg\"), (200,200))\n",
    "picB = cv2.resize(cv2.imread(\"me.jpg\"), (200,200))\n",
    "self = cv2.resize(cv2.imread(\"Selfi1.jpg\"),(200,200))"
   ]
  },
  {
   "cell_type": "code",
   "execution_count": 15,
   "metadata": {},
   "outputs": [
    {
     "data": {
      "text/plain": [
       "(200, 200, 3)"
      ]
     },
     "execution_count": 15,
     "metadata": {},
     "output_type": "execute_result"
    }
   ],
   "source": [
    "picG.shape"
   ]
  },
  {
   "cell_type": "code",
   "execution_count": 16,
   "metadata": {},
   "outputs": [],
   "source": [
    "#showing 1st image\n",
    "\n",
    "cv2.imshow(\"PhotoG\",picG)\n",
    "cv2.waitKey()\n",
    "cv2.destroyAllWindows()"
   ]
  },
  {
   "cell_type": "code",
   "execution_count": 17,
   "metadata": {},
   "outputs": [],
   "source": [
    "#showing 2nd image\n",
    "\n",
    "cv2.imshow(\"PhotoB\",picB)\n",
    "cv2.waitKey()\n",
    "cv2.destroyAllWindows()"
   ]
  },
  {
   "cell_type": "code",
   "execution_count": 18,
   "metadata": {},
   "outputs": [],
   "source": [
    "#showing 3rd image\n",
    "\n",
    "cv2.imshow(\"Selfie\",self)\n",
    "cv2.waitKey()\n",
    "cv2.destroyAllWindows()"
   ]
  },
  {
   "cell_type": "code",
   "execution_count": 19,
   "metadata": {},
   "outputs": [],
   "source": [
    "# 1x2  collage using first 2 pics\n",
    "collage = np.hstack((picG,picB))\n",
    "cv2.imshow(\"Collage 1x2\",collage)\n",
    "cv2.waitKey()\n",
    "cv2.destroyAllWindows()"
   ]
  },
  {
   "cell_type": "code",
   "execution_count": 20,
   "metadata": {},
   "outputs": [],
   "source": [
    "# 2x1  collage\n",
    "\n",
    "collage = np.vstack((picG,picB))\n",
    "cv2.imshow(\"2x1\",collage)\n",
    "cv2.waitKey()\n",
    "cv2.destroyAllWindows()"
   ]
  },
  {
   "cell_type": "code",
   "execution_count": 21,
   "metadata": {},
   "outputs": [],
   "source": [
    "# 1x3 cllage\n",
    "\n",
    "collage = np.hstack((picG,picB,self))\n",
    "cv2.imshow(\"Collage 1x3\",collage)\n",
    "cv2.waitKey()\n",
    "cv2.destroyAllWindows()"
   ]
  },
  {
   "cell_type": "code",
   "execution_count": 22,
   "metadata": {},
   "outputs": [],
   "source": [
    "# 3x1 collage\n",
    "\n",
    "collage = np.vstack((picG,picB,self))\n",
    "cv2.imshow(\"Collage 3x1\",collage)\n",
    "cv2.waitKey()\n",
    "cv2.destroyAllWindows()"
   ]
  },
  {
   "cell_type": "markdown",
   "metadata": {},
   "source": [
    "# 3.) Swapping"
   ]
  },
  {
   "cell_type": "code",
   "execution_count": 23,
   "metadata": {},
   "outputs": [],
   "source": [
    "import cv2\n",
    "import numpy as np"
   ]
  },
  {
   "cell_type": "markdown",
   "metadata": {},
   "source": [
    "Resizing both the images."
   ]
  },
  {
   "cell_type": "code",
   "execution_count": 24,
   "metadata": {},
   "outputs": [],
   "source": [
    "PicB = cv2.resize(cv2.imread(\"me.jpg\"),(480,480))\n",
    "PicG = cv2.resize(cv2.imread(\"me1.jpg\"),(480,480))"
   ]
  },
  {
   "cell_type": "markdown",
   "metadata": {},
   "source": [
    "# First Image"
   ]
  },
  {
   "cell_type": "code",
   "execution_count": 25,
   "metadata": {},
   "outputs": [],
   "source": [
    "cv2.imshow(\"PicB\",PicB)\n",
    "cv2.waitKey()\n",
    "cv2.destroyAllWindows()"
   ]
  },
  {
   "cell_type": "markdown",
   "metadata": {},
   "source": [
    "Cropping face from picB"
   ]
  },
  {
   "cell_type": "code",
   "execution_count": 26,
   "metadata": {},
   "outputs": [],
   "source": [
    "#             [row , col]\n",
    "cropB = PicB[85:240,180:315]                  #using slicing operation to crop the image\n",
    "cv2.imshow(\"CroppedPicB\",cropB)\n",
    "cv2.waitKey()\n",
    "cv2.destroyAllWindows()"
   ]
  },
  {
   "cell_type": "code",
   "execution_count": 27,
   "metadata": {},
   "outputs": [
    {
     "data": {
      "text/plain": [
       "(155, 135, 3)"
      ]
     },
     "execution_count": 27,
     "metadata": {},
     "output_type": "execute_result"
    }
   ],
   "source": [
    "cropB.shape                                   #cheking the shape of cropped portion"
   ]
  },
  {
   "cell_type": "markdown",
   "metadata": {},
   "source": [
    "# Second Image"
   ]
  },
  {
   "cell_type": "code",
   "execution_count": 28,
   "metadata": {},
   "outputs": [],
   "source": [
    "#showing 2nd image\n",
    "cv2.imshow(\"PicG\",PicG)\n",
    "cv2.waitKey()\n",
    "cv2.destroyAllWindows()"
   ]
  },
  {
   "cell_type": "markdown",
   "metadata": {},
   "source": [
    "Cropping face from picG"
   ]
  },
  {
   "cell_type": "code",
   "execution_count": 29,
   "metadata": {},
   "outputs": [],
   "source": [
    "cropG = PicG[120:250,145:270]         #storing a cropped portion in cropG         \n",
    "cv2.imshow(\"PicG\",cropG)\n",
    "cv2.waitKey()\n",
    "cv2.destroyAllWindows()"
   ]
  },
  {
   "cell_type": "code",
   "execution_count": 30,
   "metadata": {},
   "outputs": [
    {
     "data": {
      "text/plain": [
       "(130, 125, 3)"
      ]
     },
     "execution_count": 30,
     "metadata": {},
     "output_type": "execute_result"
    }
   ],
   "source": [
    "cropG.shape"
   ]
  },
  {
   "cell_type": "markdown",
   "metadata": {},
   "source": [
    "# As we can see shapes of cropped portions are not same"
   ]
  },
  {
   "cell_type": "code",
   "execution_count": null,
   "metadata": {},
   "outputs": [],
   "source": [
    "# making cropped portion of same size using resize operation"
   ]
  },
  {
   "cell_type": "code",
   "execution_count": 31,
   "metadata": {},
   "outputs": [],
   "source": [
    "cropG = cv2.resize(cropG,(135,155))"
   ]
  },
  {
   "cell_type": "code",
   "execution_count": 32,
   "metadata": {},
   "outputs": [],
   "source": [
    "cv2.imshow(\"PicG\",cropG)\n",
    "cv2.waitKey()\n",
    "cv2.destroyAllWindows()"
   ]
  },
  {
   "cell_type": "code",
   "execution_count": 33,
   "metadata": {},
   "outputs": [
    {
     "data": {
      "text/plain": [
       "(155, 135, 3)"
      ]
     },
     "execution_count": 33,
     "metadata": {},
     "output_type": "execute_result"
    }
   ],
   "source": [
    "cropG.shape      # now shapes are same"
   ]
  },
  {
   "cell_type": "markdown",
   "metadata": {},
   "source": [
    "# Swapping  (PicG + cropB)"
   ]
  },
  {
   "cell_type": "code",
   "execution_count": 34,
   "metadata": {},
   "outputs": [],
   "source": [
    "# 105:260,145:280 is the values of rows and cols where my face is present.\n",
    "#So cropped part should be assigned to that portion only\n",
    "\n",
    "PicG[105:260,145:280] = cropB   \n",
    "cv2.imshow(\"PicG\",PicG)\n",
    "cv2.waitKey()\n",
    "cv2.destroyAllWindows()"
   ]
  },
  {
   "cell_type": "code",
   "execution_count": null,
   "metadata": {},
   "outputs": [],
   "source": [
    "#🤣🤣🤣"
   ]
  },
  {
   "cell_type": "markdown",
   "metadata": {},
   "source": [
    "# Swapping  (PicB + cropG)"
   ]
  },
  {
   "cell_type": "code",
   "execution_count": 35,
   "metadata": {},
   "outputs": [
    {
     "data": {
      "text/plain": [
       "(155, 135, 3)"
      ]
     },
     "execution_count": 35,
     "metadata": {},
     "output_type": "execute_result"
    }
   ],
   "source": [
    "cropB.shape"
   ]
  },
  {
   "cell_type": "code",
   "execution_count": 36,
   "metadata": {},
   "outputs": [],
   "source": [
    "PicB[85:240,180:315] = cropG"
   ]
  },
  {
   "cell_type": "code",
   "execution_count": 37,
   "metadata": {},
   "outputs": [],
   "source": [
    "cv2.imshow(\"PicB\",PicB)\n",
    "cv2.waitKey()\n",
    "cv2.destroyAllWindows()"
   ]
  },
  {
   "cell_type": "code",
   "execution_count": null,
   "metadata": {},
   "outputs": [],
   "source": [
    "#😂😂😂"
   ]
  },
  {
   "cell_type": "markdown",
   "metadata": {},
   "source": [
    "\n",
    "   # THANK YOU  ...HOPE U ENJOYED!!\n"
   ]
  },
  {
   "cell_type": "code",
   "execution_count": null,
   "metadata": {},
   "outputs": [],
   "source": []
  }
 ],
 "metadata": {
  "kernelspec": {
   "display_name": "Python 3",
   "language": "python",
   "name": "python3"
  },
  "language_info": {
   "codemirror_mode": {
    "name": "ipython",
    "version": 3
   },
   "file_extension": ".py",
   "mimetype": "text/x-python",
   "name": "python",
   "nbconvert_exporter": "python",
   "pygments_lexer": "ipython3",
   "version": "3.8.3"
  }
 },
 "nbformat": 4,
 "nbformat_minor": 4
}
